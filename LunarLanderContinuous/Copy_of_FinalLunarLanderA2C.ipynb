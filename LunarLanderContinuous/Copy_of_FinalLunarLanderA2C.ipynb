{
  "nbformat": 4,
  "nbformat_minor": 0,
  "metadata": {
    "colab": {
      "name": "Copy of FinalLunarLanderA2C.ipynb",
      "provenance": [],
      "collapsed_sections": [],
      "authorship_tag": "ABX9TyO7fBhXlsqY8xxgMWNFdS+G",
      "include_colab_link": true
    },
    "kernelspec": {
      "name": "python3",
      "display_name": "Python 3"
    },
    "language_info": {
      "name": "python"
    },
    "accelerator": "GPU"
  },
  "cells": [
    {
      "cell_type": "markdown",
      "metadata": {
        "id": "view-in-github",
        "colab_type": "text"
      },
      "source": [
        "<a href=\"https://colab.research.google.com/github/danielhazann/RL_project/blob/main/LunarLanderContinuous/Copy_of_FinalLunarLanderA2C.ipynb\" target=\"_parent\"><img src=\"https://colab.research.google.com/assets/colab-badge.svg\" alt=\"Open In Colab\"/></a>"
      ]
    },
    {
      "cell_type": "code",
      "metadata": {
        "id": "FNAbQusD-c0s",
        "colab": {
          "base_uri": "https://localhost:8080/"
        },
        "outputId": "dd184f39-7379-4913-c087-c03dfa284ad6"
      },
      "source": [
        "!pip3 install box2d-py\n",
        "!pip3 install gym[Box_2D]\n",
        "import gym"
      ],
      "execution_count": null,
      "outputs": [
        {
          "output_type": "stream",
          "text": [
            "Requirement already satisfied: box2d-py in /usr/local/lib/python3.7/dist-packages (2.3.8)\n",
            "Requirement already satisfied: gym[Box_2D] in /usr/local/lib/python3.7/dist-packages (0.17.3)\n",
            "\u001b[33mWARNING: gym 0.17.3 does not provide the extra 'box_2d'\u001b[0m\n",
            "Requirement already satisfied: cloudpickle<1.7.0,>=1.2.0 in /usr/local/lib/python3.7/dist-packages (from gym[Box_2D]) (1.3.0)\n",
            "Requirement already satisfied: numpy>=1.10.4 in /usr/local/lib/python3.7/dist-packages (from gym[Box_2D]) (1.19.5)\n",
            "Requirement already satisfied: pyglet<=1.5.0,>=1.4.0 in /usr/local/lib/python3.7/dist-packages (from gym[Box_2D]) (1.5.0)\n",
            "Requirement already satisfied: scipy in /usr/local/lib/python3.7/dist-packages (from gym[Box_2D]) (1.4.1)\n",
            "Requirement already satisfied: future in /usr/local/lib/python3.7/dist-packages (from pyglet<=1.5.0,>=1.4.0->gym[Box_2D]) (0.16.0)\n"
          ],
          "name": "stdout"
        }
      ]
    },
    {
      "cell_type": "code",
      "metadata": {
        "id": "5G-Svr3ZYF6e"
      },
      "source": [
        "import numpy as np \n",
        "\n",
        "import torch\n",
        "import torch.nn as nn\n",
        "import torch.nn.functional as F\n",
        "\n",
        "class Actor(nn.Module):\n",
        "\n",
        "    def __init__(self, s_size, a_size, seed):\n",
        "        super(Actor, self).__init__()\n",
        "\n",
        "        self.seed = torch.manual_seed(seed)\n",
        "        self.fc1 = nn.Linear(s_size, 512)\n",
        "        self.fc2 = nn.Linear(512, 256)\n",
        "        self.fc3 = nn.Linear(256, a_size)\n",
        "        # self.bn1 = nn.BatchNorm1d(64)\n",
        "        # self.bn2 = nn.BatchNorm1d(32)\n",
        "\n",
        "    def forward(self, state):\n",
        "        x = F.relu(self.fc1(state))\n",
        "        x = F.relu(self.fc2(x))\n",
        "        return torch.tanh(self.fc3(x))\n",
        "\n",
        "class Critic(nn.Module):\n",
        "\n",
        "    def __init__(self, s_size, a_size, seed):\n",
        "        super(Critic, self).__init__()\n",
        "\n",
        "        self.seed = torch.manual_seed(seed)\n",
        "        self.fc1 = nn.Linear(s_size, 512)\n",
        "        self.fc2 = nn.Linear(512+a_size, 256)\n",
        "        self.fc3 = nn.Linear(256, 1)\n",
        "\n",
        "    def forward(self, state, action):\n",
        "        x = F.leaky_relu(self.fc1(state))\n",
        "        x = torch.cat((x, action), dim=1)\n",
        "        x = F.leaky_relu(self.fc2(x))\n",
        "        return self.fc3(x)"
      ],
      "execution_count": null,
      "outputs": []
    },
    {
      "cell_type": "code",
      "metadata": {
        "id": "euWFML5F8e9D"
      },
      "source": [
        "import numpy as np\n",
        "import random\n",
        "import copy\n",
        "from collections import namedtuple, deque\n",
        "\n",
        "import torch\n",
        "import torch.nn.functional as F\n",
        "import torch.optim as optim\n",
        "\n",
        "BUFFER_SIZE = int(1e6)\n",
        "BATCH_SIZE= 64\n",
        "GAMMA = 0.99            # discount factor\n",
        "TAU = 1e-3              # for soft update of target parameters\n",
        "LR_ACTOR = 0.001        # learning rate of the actor \n",
        "LR_CRITIC = 0.003        # learning rate of the critic\n",
        "WEIGHT_DECAY = 0.0001 \n",
        "\n",
        "class Agent():\n",
        "\n",
        "    def __init__(self, s_size, a_size, seed):\n",
        "\n",
        "        self.s_size = s_size\n",
        "        self.a_size = a_size\n",
        "        self.seed = seed\n",
        "\n",
        "        self.actor_local = Actor(s_size, a_size, seed).to(device)\n",
        "        self.actor_target = Actor(s_size, a_size, seed).to(device)\n",
        "        self.actor_optim = optim.Adam(self.actor_local.parameters(), lr=LR_ACTOR)\n",
        "\n",
        "        self.critic_local = Critic(s_size, a_size, seed).to(device)\n",
        "        self.critic_target = Critic(s_size, a_size, seed).to(device)\n",
        "        self.critic_optim = optim.Adam(self.critic_local.parameters(), lr=LR_CRITIC)\n",
        "\n",
        "        self.noise = OUNoise(a_size, seed)\n",
        "        self.memory = ReplayBuffer(a_size, BUFFER_SIZE, BATCH_SIZE, seed)\n",
        "\n",
        "    def step(self, state, action, reward, next_state, done):\n",
        "        self.memory.add(state, action, reward, next_state, done)\n",
        "\n",
        "        if len(self.memory) > BATCH_SIZE:\n",
        "            experiences = self.memory.sample()\n",
        "            self.learn(experiences, GAMMA)\n",
        "\n",
        "    def act(self, state, add_noise=False):\n",
        "        state = torch.from_numpy(state).float().to(device)\n",
        "        self.actor_local.eval()\n",
        "        with torch.no_grad():\n",
        "            action = self.actor_local(state).cpu().data.numpy()\n",
        "        self.actor_local.train()\n",
        "        if add_noise:\n",
        "            action += self.noise.sample()\n",
        "        return np.clip(action, -1, 1)\n",
        "\n",
        "    def reset(self):\n",
        "        self.noise.reset()\n",
        "\n",
        "    def learn(self, experiences, gamma):\n",
        "        states = []\n",
        "        actions = []\n",
        "        rewards = []\n",
        "        next_states = []\n",
        "        dones = []\n",
        "\n",
        "        for e in experiences:\n",
        "\n",
        "            if len(states) == 0:\n",
        "                states = np.append(states, e.state)\n",
        "                actions = np.append(actions, e.action)\n",
        "                rewards = np.append(rewards, e.reward)\n",
        "                next_states = np.append(next_states, e.next_state)\n",
        "                dones = np.append(dones, e.done)\n",
        "            else:\n",
        "                states = np.vstack((states, e.state))\n",
        "                actions = np.vstack((actions, e.action))\n",
        "                rewards = np.vstack((rewards, e.reward))\n",
        "                next_states = np.vstack((next_states, e.next_state))\n",
        "                dones = np.vstack((dones, e.done))\n",
        "\n",
        "        # print(states)\n",
        "        states = torch.from_numpy(states).float().to(device)\n",
        "        actions = torch.from_numpy(actions).float().to(device)\n",
        "        rewards = torch.from_numpy(rewards).float().to(device)\n",
        "        next_states = torch.from_numpy(next_states).float().to(device)\t\t\t\n",
        "        dones = torch.from_numpy(dones).float().to(device)\n",
        "        \n",
        "        # ---------------------------- update critic ---------------------------- #\n",
        "        # Get predicted next-state actions and Q values from target models\n",
        "        actions_next = self.actor_target(next_states)\n",
        "        Q_targets_next = self.critic_target(next_states, actions_next)\n",
        "        # Compute Q targets for current states (y_i)\n",
        "        Q_targets = rewards + (gamma * Q_targets_next * (1 - dones))\n",
        "        # Compute critic loss\n",
        "        Q_expected = self.critic_local(states, actions)\n",
        "        critic_loss = F.mse_loss(Q_expected, Q_targets)\n",
        "        # Minimize the loss\n",
        "        self.critic_optim.zero_grad()\n",
        "        critic_loss.backward()\n",
        "        self.critic_optim.step()\n",
        "\n",
        "        # ---------------------------- update actor ---------------------------- #\n",
        "        # Compute actor loss\n",
        "        actions_pred = self.actor_local(states)\n",
        "        actor_loss = -self.critic_local(states, actions_pred).mean()\n",
        "        # Minimize the loss\n",
        "        self.actor_optim.zero_grad()\n",
        "        actor_loss.backward()\n",
        "        self.actor_optim.step()\n",
        "\n",
        "        # ----------------------- update target networks ----------------------- #\n",
        "        self.soft_update(self.critic_local, self.critic_target, TAU)\n",
        "        self.soft_update(self.actor_local, self.actor_target, TAU)                     \n",
        "\n",
        "    def soft_update(self, local_model, target_model, tau):\n",
        "        for target_param, local_param in zip(target_model.parameters(), local_model.parameters()):\n",
        "            target_param.data.copy_(tau*local_param.data + (1.0-tau)*target_param.data)\n",
        "\n",
        "\n",
        "class OUNoise:\n",
        "    \"\"\"Ornstein-Uhlenbeck process.\"\"\"\n",
        "\n",
        "    def __init__(self, size, seed, mu=0., theta=0.15, sigma=0.2):\n",
        "        self.mu = mu * np.ones(size)\n",
        "        self.theta = theta\n",
        "        self.sigma = sigma\n",
        "        self.seed = random.seed(seed)\n",
        "        self.reset()\n",
        "\n",
        "    def reset(self):\n",
        "        self.state = copy.copy(self.mu)\n",
        "\n",
        "    def sample(self):\n",
        "        x = self.state\n",
        "        dx = self.theta * (self.mu - x) + self.sigma * np.array([random.random() for i in range(len(x))])\n",
        "        self.state = x + dx\n",
        "        return self.state\n",
        "\n",
        "\n",
        "class ReplayBuffer:\n",
        "\n",
        "    def __init__(self, action_size, buffer_size, batch_size, seed):\n",
        "\n",
        "        self.memory = deque(maxlen=buffer_size)  # internal memory (deque)\n",
        "        self.batch_size = batch_size\n",
        "        self.seed = random.seed(seed)\n",
        "\n",
        "    def add(self, state, action, reward, next_state, done):\n",
        "        e = Experience(state, action, reward, next_state, done)\n",
        "        self.memory.append(e)\n",
        "\n",
        "    def sample(self):\n",
        "        return random.sample(self.memory, k=self.batch_size)\n",
        "\n",
        "    def __len__(self):\n",
        "        return len(self.memory)\n",
        "\n",
        "\n",
        "class Experience:\n",
        "\n",
        "    def __init__(self, state, action, reward, next_state, done):\n",
        "\n",
        "        self.state = state\n",
        "        self.action = action\n",
        "        self.reward = reward\n",
        "        self.next_state = next_state\n",
        "        self.done = done"
      ],
      "execution_count": null,
      "outputs": []
    },
    {
      "cell_type": "code",
      "metadata": {
        "id": "pB4O-ZWx_YPH"
      },
      "source": [
        "device = torch.device(\"cuda:0\" if torch.cuda.is_available() else \"cpu\")"
      ],
      "execution_count": null,
      "outputs": []
    },
    {
      "cell_type": "code",
      "metadata": {
        "id": "VVuPBxl78g5o"
      },
      "source": [
        "env = gym.make('LunarLanderContinuous-v2')\n",
        "env.seed(32)\n",
        "agent = Agent(s_size=8, a_size=2, seed=32)"
      ],
      "execution_count": null,
      "outputs": []
    },
    {
      "cell_type": "code",
      "metadata": {
        "id": "C_qJORdt-iYl",
        "colab": {
          "base_uri": "https://localhost:8080/"
        },
        "outputId": "4be40ec5-0008-4003-c94e-7f2dc74605a6"
      },
      "source": [
        "def ddpg(n_episodes=2000, max_t=500):\n",
        "    scores_deque = deque(maxlen=100)\n",
        "    scores = []\n",
        "    max_score = -np.Inf\n",
        "    for i_episode in range(1, n_episodes+1):\n",
        "        state = env.reset()\n",
        "        agent.reset()\n",
        "        score = 0\n",
        "        for t in range(max_t):\n",
        "            action = agent.act(state)\n",
        "            next_state, reward, done, _ = env.step(action)\n",
        "            agent.step(state, action, reward, next_state, done)\n",
        "            state = next_state\n",
        "            score += reward\n",
        "            if done:\n",
        "                break \n",
        "        scores_deque.append(score)\n",
        "        scores.append(score)\n",
        "        print('\\rEpisode {}\\tAverage Score: {:.2f}\\tScore: {:.2f}'.format(i_episode, np.mean(scores_deque), score), end=\"\")\n",
        "\n",
        "        if i_episode % 100 == 0:\n",
        "            torch.save(agent.actor_local.state_dict(), 'checkpoint_actor.pth')\n",
        "            torch.save(agent.critic_local.state_dict(), 'checkpoint_critic.pth')\n",
        "            print('\\rEpisode {}\\tAverage Score: {:.2f}'.format(i_episode, np.mean(scores_deque))) \n",
        "            \n",
        "\n",
        "            if np.mean(scores_deque)>=200.0:\n",
        "                print('\\nEnvironment solved in {:d} episodes!\\tAverage Score: {:.2f}'.format(i_episode-100, np.mean(scores_deque)))\n",
        "                break\n",
        "            \n",
        "            scores_deque = deque(maxlen=100)\n",
        "\n",
        "    return scores\n",
        "\n",
        "scores = ddpg()"
      ],
      "execution_count": null,
      "outputs": [
        {
          "output_type": "stream",
          "text": [
            "Episode 100\tAverage Score: -454.51\n",
            "Episode 200\tAverage Score: -92.92\n",
            "Episode 300\tAverage Score: -28.90\n",
            "Episode 400\tAverage Score: 54.87\n",
            "Episode 500\tAverage Score: 90.20\n",
            "Episode 600\tAverage Score: 99.68\n",
            "Episode 700\tAverage Score: 124.82\n",
            "Episode 800\tAverage Score: 144.33\n",
            "Episode 900\tAverage Score: 134.89\n",
            "Episode 1000\tAverage Score: 168.03\n",
            "Episode 1100\tAverage Score: 218.66\n",
            "\n",
            "Environment solved in 1000 episodes!\tAverage Score: 218.66\n"
          ],
          "name": "stdout"
        }
      ]
    },
    {
      "cell_type": "code",
      "metadata": {
        "id": "QpslzbgOsiGk"
      },
      "source": [
        "import matplotlib.pyplot as plt"
      ],
      "execution_count": null,
      "outputs": []
    },
    {
      "cell_type": "code",
      "metadata": {
        "id": "F1vN0KMzAhmz",
        "colab": {
          "base_uri": "https://localhost:8080/",
          "height": 279
        },
        "outputId": "31bb154a-8e86-458e-bc40-3bc87e402bb9"
      },
      "source": [
        "fig = plt.figure()\n",
        "ax = fig.add_subplot(111)\n",
        "plt.plot(np.arange(1, len(scores)+1), scores)\n",
        "plt.ylabel('Score')\n",
        "plt.xlabel('Episode #')\n",
        "plt.show()"
      ],
      "execution_count": null,
      "outputs": [
        {
          "output_type": "display_data",
          "data": {
            "image/png": "[encoded data removed]",
            "text/plain": [
              "<Figure size 432x288 with 1 Axes>"
            ]
          },
          "metadata": {
            "needs_background": "light"
          }
        }
      ]
    },
    {
      "cell_type": "code",
      "metadata": {
        "id": "KEa79KMesdPQ"
      },
      "source": [
        "np.savetxt(\"LunarLanderScores_A2C.csv\", scores, delimiter=\",\")"
      ],
      "execution_count": null,
      "outputs": []
    },
    {
      "cell_type": "code",
      "metadata": {
        "id": "APpLbgiU6Rz_"
      },
      "source": [
        ""
      ],
      "execution_count": null,
      "outputs": []
    }
  ]
}